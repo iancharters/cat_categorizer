{
 "cells": [
  {
   "cell_type": "code",
   "execution_count": 1,
   "metadata": {},
   "outputs": [],
   "source": [
    "#|default_exp app"
   ]
  },
  {
   "cell_type": "code",
   "execution_count": 2,
   "metadata": {},
   "outputs": [],
   "source": [
    "#|export\n",
    "\n",
    "from duckduckgo_search import ddg_images\n",
    "from fastcore.all import *\n",
    "from fastai.vision.all import *\n",
    "from fastai.data.all import *\n",
    "import gradio as gr"
   ]
  },
  {
   "cell_type": "code",
   "execution_count": 3,
   "metadata": {},
   "outputs": [],
   "source": [
    "# |export\n",
    "\n",
    "learn = load_learner(\"model.pkl\")"
   ]
  },
  {
   "cell_type": "code",
   "execution_count": 4,
   "metadata": {},
   "outputs": [],
   "source": [
    "# |export\n",
    "\n",
    "breeds = [\n",
    "    \"Abyssinian\",\n",
    "    \"Aegean\",\n",
    "    \"American Bobtail\",\n",
    "    \"American Curl\",\n",
    "    \"American Ringtail\",\n",
    "    \"American Shorthair\",\n",
    "    \"American Wirehair\",\n",
    "    \"Aphrodite Giant\",\n",
    "    \"Arabian Mau\",\n",
    "    \"Asian\",\n",
    "    \"Asian Semi-longhair\",\n",
    "    \"Australian Mist\",\n",
    "    \"Balinese\",\n",
    "    \"Bambino\",\n",
    "    \"Bengal\",\n",
    "    \"Birman\",\n",
    "    \"Bombay\",\n",
    "    \"Brazilian Shorthair\",\n",
    "    \"British Longhair\",\n",
    "    \"British Shorthair\",\n",
    "    \"Burmese\",\n",
    "    \"Burmilla\",\n",
    "    \"California Spangled\",\n",
    "    \"Chantilly-Tiffany\",\n",
    "    \"Chartreux\",\n",
    "    \"Chausie\",\n",
    "    \"Colorpoint Shorthair\",\n",
    "    \"Cornish Rex\",\n",
    "    \"Cymric\",\n",
    "    \"Cyprus\",\n",
    "    \"Devon Rex\",\n",
    "    \"Donskoy\",\n",
    "    \"Dragon Li\",\n",
    "    \"Dwelf\",\n",
    "    \"Egyptian Mau\",\n",
    "    \"European Shorthair\",\n",
    "    \"Exotic Shorthair\",\n",
    "    \"Foldex\",\n",
    "    \"German Rex\",\n",
    "    \"Havana Brown\",\n",
    "    \"Highlander\",\n",
    "    \"Himalayan\",\n",
    "    \"Japanese Bobtail\",\n",
    "    \"Javanese\",\n",
    "    \"Kanaani\",\n",
    "    \"Khao Manee\",\n",
    "    \"Kinkalow\",\n",
    "    \"Korat\",\n",
    "    \"Korean Bobtail\",\n",
    "    \"Kurilian Bobtail\",\n",
    "    \"Lambkin\",\n",
    "    \"LaPerm\",\n",
    "    \"Lykoi\",\n",
    "    \"Maine Coon\",\n",
    "    \"Manx\",\n",
    "    \"Mekong Bobtail\",\n",
    "    \"Minskin\",\n",
    "    \"Minuet\",\n",
    "    \"Munchkin\",\n",
    "    \"Nebelung\",\n",
    "    \"Neva Masquerade\",\n",
    "    \"Norwegian Forest Cat\",\n",
    "    \"Ocicat\",\n",
    "    \"Ojos Azules\",\n",
    "    \"Oregon Rex\",\n",
    "    \"Oriental Bicolor\",\n",
    "    \"Oriental Longhair\",\n",
    "    \"Oriental Shorthair\",\n",
    "    \"Persian (modern)\",\n",
    "    \"Persian (traditional)\",\n",
    "    \"Peterbald\",\n",
    "    \"Pixie-bob\",\n",
    "    \"Ragamuffin\",\n",
    "    \"Ragdoll\",\n",
    "    \"Raas\",\n",
    "    \"Russian Blue\",\n",
    "    \"Russian White, Russian Black and Russian Tabby\",\n",
    "    \"Sam Sawet\",\n",
    "    \"Savannah\",\n",
    "    \"Scottish Fold\",\n",
    "    \"Selkirk Rex\",\n",
    "    \"Serengeti\",\n",
    "    \"Serrade Petit\",\n",
    "    \"Siamese\",\n",
    "    \"Siberian\",\n",
    "    \"Singapura\",\n",
    "    \"Snowshoe\",\n",
    "    \"Sokoke\",\n",
    "    \"Somali\",\n",
    "    \"Sphynx\",\n",
    "    \"Suphalak\",\n",
    "    \"Thai\",\n",
    "    \"Thai Lilac, Thai Blue Point and Thai Lilac Point\",\n",
    "    \"Tonkinese\",\n",
    "    \"Toybob\",\n",
    "    \"Toyger\",\n",
    "    \"Turkish Angora\",\n",
    "    \"Turkish Van\",\n",
    "    \"Turkish Vankedisi\",\n",
    "    \"Ukrainian Levkoy\",\n",
    "    \"York Chocolate\",\n",
    "]\n",
    "\n",
    "examples = [\n",
    "    \"examples/bambino.jpg\",\n",
    "    \"examples/dwelf.jpg\",\n",
    "    \"examples/scottish_fold.jpg\",\n",
    "    \"examples/sphynx.jpg\",\n",
    "]"
   ]
  },
  {
   "cell_type": "code",
   "execution_count": 5,
   "metadata": {},
   "outputs": [],
   "source": [
    "#|export\n",
    "\n",
    "def classify_cat(img):\n",
    "    # %learn.predict(x)\n",
    "    pred, idx, probs = learn.predict(img)\n",
    "    return dict(zip(breeds, map(float, probs)))"
   ]
  },
  {
   "cell_type": "code",
   "execution_count": 6,
   "metadata": {},
   "outputs": [
    {
     "name": "stderr",
     "output_type": "stream",
     "text": [
      "/opt/homebrew/anaconda3/envs/fastai/lib/python3.11/site-packages/gradio/inputs.py:257: UserWarning: Usage of gradio.inputs is deprecated, and will not be supported in the future, please import your component from gradio.components\n",
      "  warnings.warn(\n",
      "/opt/homebrew/anaconda3/envs/fastai/lib/python3.11/site-packages/gradio/deprecation.py:40: UserWarning: `optional` parameter is deprecated, and it has no effect\n",
      "  warnings.warn(value)\n",
      "/opt/homebrew/anaconda3/envs/fastai/lib/python3.11/site-packages/gradio/outputs.py:197: UserWarning: Usage of gradio.outputs is deprecated, and will not be supported in the future, please import your components from gradio.components\n",
      "  warnings.warn(\n",
      "/opt/homebrew/anaconda3/envs/fastai/lib/python3.11/site-packages/gradio/deprecation.py:40: UserWarning: The 'type' parameter has been deprecated. Use the Number component instead.\n",
      "  warnings.warn(value)\n"
     ]
    },
    {
     "name": "stdout",
     "output_type": "stream",
     "text": [
      "Running on local URL:  http://127.0.0.1:7860\n",
      "\n",
      "To create a public link, set `share=True` in `launch()`.\n"
     ]
    },
    {
     "data": {
      "text/plain": []
     },
     "execution_count": 6,
     "metadata": {},
     "output_type": "execute_result"
    },
    {
     "data": {
      "text/html": [
       "\n",
       "<style>\n",
       "    /* Turns off some styling */\n",
       "    progress {\n",
       "        /* gets rid of default border in Firefox and Opera. */\n",
       "        border: none;\n",
       "        /* Needs to be in here for Safari polyfill so background images work as expected. */\n",
       "        background-size: auto;\n",
       "    }\n",
       "    progress:not([value]), progress:not([value])::-webkit-progress-bar {\n",
       "        background: repeating-linear-gradient(45deg, #7e7e7e, #7e7e7e 10px, #5c5c5c 10px, #5c5c5c 20px);\n",
       "    }\n",
       "    .progress-bar-interrupted, .progress-bar-interrupted::-webkit-progress-bar {\n",
       "        background: #F44336;\n",
       "    }\n",
       "</style>\n"
      ],
      "text/plain": [
       "<IPython.core.display.HTML object>"
      ]
     },
     "metadata": {},
     "output_type": "display_data"
    },
    {
     "data": {
      "text/html": [],
      "text/plain": [
       "<IPython.core.display.HTML object>"
      ]
     },
     "metadata": {},
     "output_type": "display_data"
    },
    {
     "data": {
      "text/html": [
       "\n",
       "<style>\n",
       "    /* Turns off some styling */\n",
       "    progress {\n",
       "        /* gets rid of default border in Firefox and Opera. */\n",
       "        border: none;\n",
       "        /* Needs to be in here for Safari polyfill so background images work as expected. */\n",
       "        background-size: auto;\n",
       "    }\n",
       "    progress:not([value]), progress:not([value])::-webkit-progress-bar {\n",
       "        background: repeating-linear-gradient(45deg, #7e7e7e, #7e7e7e 10px, #5c5c5c 10px, #5c5c5c 20px);\n",
       "    }\n",
       "    .progress-bar-interrupted, .progress-bar-interrupted::-webkit-progress-bar {\n",
       "        background: #F44336;\n",
       "    }\n",
       "</style>\n"
      ],
      "text/plain": [
       "<IPython.core.display.HTML object>"
      ]
     },
     "metadata": {},
     "output_type": "display_data"
    },
    {
     "data": {
      "text/html": [],
      "text/plain": [
       "<IPython.core.display.HTML object>"
      ]
     },
     "metadata": {},
     "output_type": "display_data"
    }
   ],
   "source": [
    "#|export\n",
    "\n",
    "image = gr.inputs.Image(shape=(192, 192))\n",
    "label = gr.outputs.Label()\n",
    "\n",
    "intf = gr.Interface(fn=classify_cat, inputs=image, outputs=label, examples=examples)\n",
    "intf.launch(inline=False)"
   ]
  },
  {
   "cell_type": "code",
   "execution_count": 5,
   "metadata": {},
   "outputs": [
    {
     "ename": "InterpolationMissingOptionError",
     "evalue": "Bad value substitution: option 'lib_name' in section 'DEFAULT' contains an interpolation key 'repo' which is not a valid option name. Raw value: '%(repo)s'",
     "output_type": "error",
     "traceback": [
      "\u001b[0;31m---------------------------------------------------------------------------\u001b[0m",
      "\u001b[0;31mInterpolationMissingOptionError\u001b[0m           Traceback (most recent call last)",
      "Cell \u001b[0;32mIn[5], line 4\u001b[0m\n\u001b[1;32m      1\u001b[0m \u001b[39m#| hide\u001b[39;00m\n\u001b[1;32m      2\u001b[0m \u001b[39mfrom\u001b[39;00m \u001b[39mnbdev\u001b[39;00m \u001b[39mimport\u001b[39;00m nbdev_export\n\u001b[0;32m----> 4\u001b[0m nbdev_export(\u001b[39m'\u001b[39;49m\u001b[39mcat_categorizer.ipynb\u001b[39;49m\u001b[39m'\u001b[39;49m)\n",
      "File \u001b[0;32m/opt/homebrew/anaconda3/envs/fastai/lib/python3.11/site-packages/fastcore/script.py:110\u001b[0m, in \u001b[0;36mcall_parse.<locals>._f\u001b[0;34m(*args, **kwargs)\u001b[0m\n\u001b[1;32m    107\u001b[0m \u001b[39m@wraps\u001b[39m(func)\n\u001b[1;32m    108\u001b[0m \u001b[39mdef\u001b[39;00m \u001b[39m_f\u001b[39m(\u001b[39m*\u001b[39margs, \u001b[39m*\u001b[39m\u001b[39m*\u001b[39mkwargs):\n\u001b[1;32m    109\u001b[0m     mod \u001b[39m=\u001b[39m inspect\u001b[39m.\u001b[39mgetmodule(inspect\u001b[39m.\u001b[39mcurrentframe()\u001b[39m.\u001b[39mf_back)\n\u001b[0;32m--> 110\u001b[0m     \u001b[39mif\u001b[39;00m \u001b[39mnot\u001b[39;00m mod: \u001b[39mreturn\u001b[39;00m func(\u001b[39m*\u001b[39;49margs, \u001b[39m*\u001b[39;49m\u001b[39m*\u001b[39;49mkwargs)\n\u001b[1;32m    111\u001b[0m     \u001b[39mif\u001b[39;00m \u001b[39mnot\u001b[39;00m SCRIPT_INFO\u001b[39m.\u001b[39mfunc \u001b[39mand\u001b[39;00m mod\u001b[39m.\u001b[39m\u001b[39m__name__\u001b[39m\u001b[39m==\u001b[39m\u001b[39m\"\u001b[39m\u001b[39m__main__\u001b[39m\u001b[39m\"\u001b[39m: SCRIPT_INFO\u001b[39m.\u001b[39mfunc \u001b[39m=\u001b[39m func\u001b[39m.\u001b[39m\u001b[39m__name__\u001b[39m\n\u001b[1;32m    112\u001b[0m     \u001b[39mif\u001b[39;00m \u001b[39mlen\u001b[39m(sys\u001b[39m.\u001b[39margv)\u001b[39m>\u001b[39m\u001b[39m1\u001b[39m \u001b[39mand\u001b[39;00m sys\u001b[39m.\u001b[39margv[\u001b[39m1\u001b[39m]\u001b[39m==\u001b[39m\u001b[39m'\u001b[39m\u001b[39m'\u001b[39m: sys\u001b[39m.\u001b[39margv\u001b[39m.\u001b[39mpop(\u001b[39m1\u001b[39m)\n",
      "File \u001b[0;32m/opt/homebrew/anaconda3/envs/fastai/lib/python3.11/site-packages/nbdev/doclinks.py:140\u001b[0m, in \u001b[0;36mnbdev_export\u001b[0;34m(path, **kwargs)\u001b[0m\n\u001b[1;32m    138\u001b[0m \u001b[39mfor\u001b[39;00m f \u001b[39min\u001b[39;00m files: nb_export(f)\n\u001b[1;32m    139\u001b[0m add_init(get_config()\u001b[39m.\u001b[39mlib_path)\n\u001b[0;32m--> 140\u001b[0m _build_modidx()\n",
      "File \u001b[0;32m/opt/homebrew/anaconda3/envs/fastai/lib/python3.11/site-packages/nbdev/doclinks.py:98\u001b[0m, in \u001b[0;36m_build_modidx\u001b[0;34m(dest, nbs_path, skip_exists)\u001b[0m\n\u001b[1;32m     96\u001b[0m \u001b[39mif\u001b[39;00m idxfile\u001b[39m.\u001b[39mexists(): res \u001b[39m=\u001b[39m exec_local(idxfile\u001b[39m.\u001b[39mread_text(), \u001b[39m'\u001b[39m\u001b[39md\u001b[39m\u001b[39m'\u001b[39m)\n\u001b[1;32m     97\u001b[0m \u001b[39melse\u001b[39;00m: res \u001b[39m=\u001b[39m \u001b[39mdict\u001b[39m(syms\u001b[39m=\u001b[39m{}, settings\u001b[39m=\u001b[39m{}) \n\u001b[0;32m---> 98\u001b[0m res[\u001b[39m'\u001b[39m\u001b[39msettings\u001b[39m\u001b[39m'\u001b[39m] \u001b[39m=\u001b[39m {k:v \u001b[39mfor\u001b[39;49;00m k,v \u001b[39min\u001b[39;49;00m get_config()\u001b[39m.\u001b[39;49md\u001b[39m.\u001b[39;49mitems()\n\u001b[1;32m     99\u001b[0m                    \u001b[39mif\u001b[39;49;00m k \u001b[39min\u001b[39;49;00m (\u001b[39m'\u001b[39;49m\u001b[39mdoc_host\u001b[39;49m\u001b[39m'\u001b[39;49m,\u001b[39m'\u001b[39;49m\u001b[39mdoc_baseurl\u001b[39;49m\u001b[39m'\u001b[39;49m,\u001b[39m'\u001b[39;49m\u001b[39mlib_path\u001b[39;49m\u001b[39m'\u001b[39;49m,\u001b[39m'\u001b[39;49m\u001b[39mgit_url\u001b[39;49m\u001b[39m'\u001b[39;49m,\u001b[39m'\u001b[39;49m\u001b[39mbranch\u001b[39;49m\u001b[39m'\u001b[39;49m)}\n\u001b[1;32m    100\u001b[0m code_root \u001b[39m=\u001b[39m dest\u001b[39m.\u001b[39mparent\u001b[39m.\u001b[39mresolve()\n\u001b[1;32m    101\u001b[0m \u001b[39mfor\u001b[39;00m file \u001b[39min\u001b[39;00m globtastic(dest, file_glob\u001b[39m=\u001b[39m\u001b[39m\"\u001b[39m\u001b[39m*.py\u001b[39m\u001b[39m\"\u001b[39m, skip_file_re\u001b[39m=\u001b[39m\u001b[39m'\u001b[39m\u001b[39m^_\u001b[39m\u001b[39m'\u001b[39m, skip_folder_re\u001b[39m=\u001b[39m\u001b[39m\"\u001b[39m\u001b[39m\\\u001b[39m\u001b[39m.ipynb_checkpoints\u001b[39m\u001b[39m\"\u001b[39m):\n",
      "File \u001b[0;32m/opt/homebrew/anaconda3/envs/fastai/lib/python3.11/site-packages/nbdev/doclinks.py:98\u001b[0m, in \u001b[0;36m<dictcomp>\u001b[0;34m(.0)\u001b[0m\n\u001b[1;32m     96\u001b[0m \u001b[39mif\u001b[39;00m idxfile\u001b[39m.\u001b[39mexists(): res \u001b[39m=\u001b[39m exec_local(idxfile\u001b[39m.\u001b[39mread_text(), \u001b[39m'\u001b[39m\u001b[39md\u001b[39m\u001b[39m'\u001b[39m)\n\u001b[1;32m     97\u001b[0m \u001b[39melse\u001b[39;00m: res \u001b[39m=\u001b[39m \u001b[39mdict\u001b[39m(syms\u001b[39m=\u001b[39m{}, settings\u001b[39m=\u001b[39m{}) \n\u001b[0;32m---> 98\u001b[0m res[\u001b[39m'\u001b[39m\u001b[39msettings\u001b[39m\u001b[39m'\u001b[39m] \u001b[39m=\u001b[39m {k:v \u001b[39mfor\u001b[39;00m k,v \u001b[39min\u001b[39;00m get_config()\u001b[39m.\u001b[39md\u001b[39m.\u001b[39mitems()\n\u001b[1;32m     99\u001b[0m                    \u001b[39mif\u001b[39;00m k \u001b[39min\u001b[39;00m (\u001b[39m'\u001b[39m\u001b[39mdoc_host\u001b[39m\u001b[39m'\u001b[39m,\u001b[39m'\u001b[39m\u001b[39mdoc_baseurl\u001b[39m\u001b[39m'\u001b[39m,\u001b[39m'\u001b[39m\u001b[39mlib_path\u001b[39m\u001b[39m'\u001b[39m,\u001b[39m'\u001b[39m\u001b[39mgit_url\u001b[39m\u001b[39m'\u001b[39m,\u001b[39m'\u001b[39m\u001b[39mbranch\u001b[39m\u001b[39m'\u001b[39m)}\n\u001b[1;32m    100\u001b[0m code_root \u001b[39m=\u001b[39m dest\u001b[39m.\u001b[39mparent\u001b[39m.\u001b[39mresolve()\n\u001b[1;32m    101\u001b[0m \u001b[39mfor\u001b[39;00m file \u001b[39min\u001b[39;00m globtastic(dest, file_glob\u001b[39m=\u001b[39m\u001b[39m\"\u001b[39m\u001b[39m*.py\u001b[39m\u001b[39m\"\u001b[39m, skip_file_re\u001b[39m=\u001b[39m\u001b[39m'\u001b[39m\u001b[39m^_\u001b[39m\u001b[39m'\u001b[39m, skip_folder_re\u001b[39m=\u001b[39m\u001b[39m\"\u001b[39m\u001b[39m\\\u001b[39m\u001b[39m.ipynb_checkpoints\u001b[39m\u001b[39m\"\u001b[39m):\n",
      "File \u001b[0;32m<frozen _collections_abc>:861\u001b[0m, in \u001b[0;36m__iter__\u001b[0;34m(self)\u001b[0m\n",
      "File \u001b[0;32m/opt/homebrew/anaconda3/envs/fastai/lib/python3.11/configparser.py:1274\u001b[0m, in \u001b[0;36mSectionProxy.__getitem__\u001b[0;34m(self, key)\u001b[0m\n\u001b[1;32m   1272\u001b[0m \u001b[39mif\u001b[39;00m \u001b[39mnot\u001b[39;00m \u001b[39mself\u001b[39m\u001b[39m.\u001b[39m_parser\u001b[39m.\u001b[39mhas_option(\u001b[39mself\u001b[39m\u001b[39m.\u001b[39m_name, key):\n\u001b[1;32m   1273\u001b[0m     \u001b[39mraise\u001b[39;00m \u001b[39mKeyError\u001b[39;00m(key)\n\u001b[0;32m-> 1274\u001b[0m \u001b[39mreturn\u001b[39;00m \u001b[39mself\u001b[39;49m\u001b[39m.\u001b[39;49m_parser\u001b[39m.\u001b[39;49mget(\u001b[39mself\u001b[39;49m\u001b[39m.\u001b[39;49m_name, key)\n",
      "File \u001b[0;32m/opt/homebrew/anaconda3/envs/fastai/lib/python3.11/configparser.py:815\u001b[0m, in \u001b[0;36mRawConfigParser.get\u001b[0;34m(self, section, option, raw, vars, fallback)\u001b[0m\n\u001b[1;32m    813\u001b[0m     \u001b[39mreturn\u001b[39;00m value\n\u001b[1;32m    814\u001b[0m \u001b[39melse\u001b[39;00m:\n\u001b[0;32m--> 815\u001b[0m     \u001b[39mreturn\u001b[39;00m \u001b[39mself\u001b[39;49m\u001b[39m.\u001b[39;49m_interpolation\u001b[39m.\u001b[39;49mbefore_get(\u001b[39mself\u001b[39;49m, section, option, value,\n\u001b[1;32m    816\u001b[0m                                           d)\n",
      "File \u001b[0;32m/opt/homebrew/anaconda3/envs/fastai/lib/python3.11/configparser.py:396\u001b[0m, in \u001b[0;36mBasicInterpolation.before_get\u001b[0;34m(self, parser, section, option, value, defaults)\u001b[0m\n\u001b[1;32m    394\u001b[0m \u001b[39mdef\u001b[39;00m \u001b[39mbefore_get\u001b[39m(\u001b[39mself\u001b[39m, parser, section, option, value, defaults):\n\u001b[1;32m    395\u001b[0m     L \u001b[39m=\u001b[39m []\n\u001b[0;32m--> 396\u001b[0m     \u001b[39mself\u001b[39;49m\u001b[39m.\u001b[39;49m_interpolate_some(parser, option, L, value, section, defaults, \u001b[39m1\u001b[39;49m)\n\u001b[1;32m    397\u001b[0m     \u001b[39mreturn\u001b[39;00m \u001b[39m'\u001b[39m\u001b[39m'\u001b[39m\u001b[39m.\u001b[39mjoin(L)\n",
      "File \u001b[0;32m/opt/homebrew/anaconda3/envs/fastai/lib/python3.11/configparser.py:435\u001b[0m, in \u001b[0;36mBasicInterpolation._interpolate_some\u001b[0;34m(self, parser, option, accum, rest, section, map, depth)\u001b[0m\n\u001b[1;32m    433\u001b[0m     v \u001b[39m=\u001b[39m \u001b[39mmap\u001b[39m[var]\n\u001b[1;32m    434\u001b[0m \u001b[39mexcept\u001b[39;00m \u001b[39mKeyError\u001b[39;00m:\n\u001b[0;32m--> 435\u001b[0m     \u001b[39mraise\u001b[39;00m InterpolationMissingOptionError(\n\u001b[1;32m    436\u001b[0m         option, section, rawval, var) \u001b[39mfrom\u001b[39;00m \u001b[39mNone\u001b[39m\n\u001b[1;32m    437\u001b[0m \u001b[39mif\u001b[39;00m \u001b[39m\"\u001b[39m\u001b[39m%\u001b[39m\u001b[39m\"\u001b[39m \u001b[39min\u001b[39;00m v:\n\u001b[1;32m    438\u001b[0m     \u001b[39mself\u001b[39m\u001b[39m.\u001b[39m_interpolate_some(parser, option, accum, v,\n\u001b[1;32m    439\u001b[0m                            section, \u001b[39mmap\u001b[39m, depth \u001b[39m+\u001b[39m \u001b[39m1\u001b[39m)\n",
      "\u001b[0;31mInterpolationMissingOptionError\u001b[0m: Bad value substitution: option 'lib_name' in section 'DEFAULT' contains an interpolation key 'repo' which is not a valid option name. Raw value: '%(repo)s'"
     ]
    }
   ],
   "source": [
    "#| hide\n",
    "from nbdev import nbdev_export\n",
    "\n",
    "nbdev_export('cat_categorizer.ipynb')"
   ]
  },
  {
   "cell_type": "code",
   "execution_count": null,
   "metadata": {},
   "outputs": [],
   "source": []
  }
 ],
 "metadata": {
  "kernelspec": {
   "display_name": "Python 3",
   "language": "python",
   "name": "python3"
  },
  "language_info": {
   "codemirror_mode": {
    "name": "ipython",
    "version": 3
   },
   "file_extension": ".py",
   "mimetype": "text/x-python",
   "name": "python",
   "nbconvert_exporter": "python",
   "pygments_lexer": "ipython3",
   "version": "3.11.2"
  },
  "orig_nbformat": 4
 },
 "nbformat": 4,
 "nbformat_minor": 2
}
