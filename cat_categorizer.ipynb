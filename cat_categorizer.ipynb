{
 "cells": [
  {
   "cell_type": "code",
   "execution_count": 1,
   "metadata": {},
   "outputs": [],
   "source": [
    "#|default_exp app"
   ]
  },
  {
   "cell_type": "code",
   "execution_count": 1,
   "metadata": {},
   "outputs": [],
   "source": [
    "#|export\n",
    "\n",
    "from duckduckgo_search import ddg_images\n",
    "from fastcore.all import *\n",
    "from fastai.vision.all import *\n",
    "from fastai.data.all import *\n",
    "import gradio as gr"
   ]
  },
  {
   "cell_type": "code",
   "execution_count": 2,
   "metadata": {},
   "outputs": [],
   "source": [
    "# |export\n",
    "\n",
    "breeds = [\n",
    "    \"Abyssinian\",\n",
    "    \"Aegean\",\n",
    "    \"American Bobtail\",\n",
    "    \"American Curl\",\n",
    "    \"American Ringtail\",\n",
    "    \"American Shorthair\",\n",
    "    \"American Wirehair\",\n",
    "    \"Aphrodite Giant\",\n",
    "    \"Arabian Mau\",\n",
    "    \"Asian\",\n",
    "    \"Asian Semi-longhair\",\n",
    "    \"Australian Mist\",\n",
    "    \"Balinese\",\n",
    "    \"Bambino\",\n",
    "    \"Bengal\",\n",
    "    \"Birman\",\n",
    "    \"Bombay\",\n",
    "    \"Brazilian Shorthair\",\n",
    "    \"British Longhair\",\n",
    "    \"British Shorthair\",\n",
    "    \"Burmese\",\n",
    "    \"Burmilla\",\n",
    "    \"California Spangled\",\n",
    "    \"Chantilly-Tiffany\",\n",
    "    \"Chartreux\",\n",
    "    \"Chausie\",\n",
    "    \"Colorpoint Shorthair\",\n",
    "    \"Cornish Rex\",\n",
    "    \"Cymric\",\n",
    "    \"Cyprus\",\n",
    "    \"Devon Rex\",\n",
    "    \"Donskoy\",\n",
    "    \"Dragon Li\",\n",
    "    \"Dwelf\",\n",
    "    \"Egyptian Mau\",\n",
    "    \"European Shorthair\",\n",
    "    \"Exotic Shorthair\",\n",
    "    \"Foldex\",\n",
    "    \"German Rex\",\n",
    "    \"Havana Brown\",\n",
    "    \"Highlander\",\n",
    "    \"Himalayan\",\n",
    "    \"Japanese Bobtail\",\n",
    "    \"Javanese\",\n",
    "    \"Kanaani\",\n",
    "    \"Khao Manee\",\n",
    "    \"Kinkalow\",\n",
    "    \"Korat\",\n",
    "    \"Korean Bobtail\",\n",
    "    \"Kurilian Bobtail\",\n",
    "    \"Lambkin\",\n",
    "    \"LaPerm\",\n",
    "    \"Lykoi\",\n",
    "    \"Maine Coon\",\n",
    "    \"Manx\",\n",
    "    \"Mekong Bobtail\",\n",
    "    \"Minskin\",\n",
    "    \"Minuet\",\n",
    "    \"Munchkin\",\n",
    "    \"Nebelung\",\n",
    "    \"Neva Masquerade\",\n",
    "    \"Norwegian Forest Cat\",\n",
    "    \"Ocicat\",\n",
    "    \"Ojos Azules\",\n",
    "    \"Oregon Rex\",\n",
    "    \"Oriental Bicolor\",\n",
    "    \"Oriental Longhair\",\n",
    "    \"Oriental Shorthair\",\n",
    "    \"Persian (modern)\",\n",
    "    \"Persian (traditional)\",\n",
    "    \"Peterbald\",\n",
    "    \"Pixie-bob\",\n",
    "    \"Ragamuffin\",\n",
    "    \"Ragdoll\",\n",
    "    \"Raas\",\n",
    "    \"Russian Blue\",\n",
    "    \"Russian White, Russian Black and Russian Tabby\",\n",
    "    \"Sam Sawet\",\n",
    "    \"Savannah\",\n",
    "    \"Scottish Fold\",\n",
    "    \"Selkirk Rex\",\n",
    "    \"Serengeti\",\n",
    "    \"Serrade Petit\",\n",
    "    \"Siamese\",\n",
    "    \"Siberian\",\n",
    "    \"Singapura\",\n",
    "    \"Snowshoe\",\n",
    "    \"Sokoke\",\n",
    "    \"Somali\",\n",
    "    \"Sphynx\",\n",
    "    \"Suphalak\",\n",
    "    \"Thai\",\n",
    "    \"Thai Lilac, Thai Blue Point and Thai Lilac Point\",\n",
    "    \"Tonkinese\",\n",
    "    \"Toybob\",\n",
    "    \"Toyger\",\n",
    "    \"Turkish Angora\",\n",
    "    \"Turkish Van\",\n",
    "    \"Turkish Vankedisi\",\n",
    "    \"Ukrainian Levkoy\",\n",
    "    \"York Chocolate\",\n",
    "]\n",
    "\n",
    "examples = [\n",
    "    \"examples/bambino.jpg\",\n",
    "    \"examples/dwelf.jpg\",\n",
    "    \"examples/scottish_fold.jpg\",\n",
    "    \"examples/sphynx.jpg\",\n",
    "]"
   ]
  },
  {
   "cell_type": "code",
   "execution_count": 3,
   "metadata": {},
   "outputs": [],
   "source": [
    "# |export\n",
    "\n",
    "learn = load_learner(\"model-2.pkl\")"
   ]
  },
  {
   "cell_type": "code",
   "execution_count": 4,
   "metadata": {},
   "outputs": [],
   "source": [
    "#|export\n",
    "\n",
    "def classify_cat(img):\n",
    "    _, _, probs = learn.predict(img)\n",
    "    return dict(zip(breeds, map(float, probs)))"
   ]
  },
  {
   "cell_type": "code",
   "execution_count": 5,
   "metadata": {},
   "outputs": [
    {
     "name": "stderr",
     "output_type": "stream",
     "text": [
      "/opt/homebrew/anaconda3/envs/fastai/lib/python3.11/site-packages/gradio/inputs.py:257: UserWarning: Usage of gradio.inputs is deprecated, and will not be supported in the future, please import your component from gradio.components\n",
      "  warnings.warn(\n",
      "/opt/homebrew/anaconda3/envs/fastai/lib/python3.11/site-packages/gradio/deprecation.py:40: UserWarning: `optional` parameter is deprecated, and it has no effect\n",
      "  warnings.warn(value)\n",
      "/opt/homebrew/anaconda3/envs/fastai/lib/python3.11/site-packages/gradio/outputs.py:197: UserWarning: Usage of gradio.outputs is deprecated, and will not be supported in the future, please import your components from gradio.components\n",
      "  warnings.warn(\n",
      "/opt/homebrew/anaconda3/envs/fastai/lib/python3.11/site-packages/gradio/deprecation.py:40: UserWarning: The 'type' parameter has been deprecated. Use the Number component instead.\n",
      "  warnings.warn(value)\n"
     ]
    },
    {
     "name": "stdout",
     "output_type": "stream",
     "text": [
      "Running on local URL:  http://127.0.0.1:7860\n",
      "\n",
      "To create a public link, set `share=True` in `launch()`.\n"
     ]
    },
    {
     "data": {
      "text/plain": []
     },
     "execution_count": 5,
     "metadata": {},
     "output_type": "execute_result"
    },
    {
     "data": {
      "text/html": [
       "\n",
       "<style>\n",
       "    /* Turns off some styling */\n",
       "    progress {\n",
       "        /* gets rid of default border in Firefox and Opera. */\n",
       "        border: none;\n",
       "        /* Needs to be in here for Safari polyfill so background images work as expected. */\n",
       "        background-size: auto;\n",
       "    }\n",
       "    progress:not([value]), progress:not([value])::-webkit-progress-bar {\n",
       "        background: repeating-linear-gradient(45deg, #7e7e7e, #7e7e7e 10px, #5c5c5c 10px, #5c5c5c 20px);\n",
       "    }\n",
       "    .progress-bar-interrupted, .progress-bar-interrupted::-webkit-progress-bar {\n",
       "        background: #F44336;\n",
       "    }\n",
       "</style>\n"
      ],
      "text/plain": [
       "<IPython.core.display.HTML object>"
      ]
     },
     "metadata": {},
     "output_type": "display_data"
    },
    {
     "data": {
      "text/html": [],
      "text/plain": [
       "<IPython.core.display.HTML object>"
      ]
     },
     "metadata": {},
     "output_type": "display_data"
    },
    {
     "data": {
      "text/html": [
       "\n",
       "<style>\n",
       "    /* Turns off some styling */\n",
       "    progress {\n",
       "        /* gets rid of default border in Firefox and Opera. */\n",
       "        border: none;\n",
       "        /* Needs to be in here for Safari polyfill so background images work as expected. */\n",
       "        background-size: auto;\n",
       "    }\n",
       "    progress:not([value]), progress:not([value])::-webkit-progress-bar {\n",
       "        background: repeating-linear-gradient(45deg, #7e7e7e, #7e7e7e 10px, #5c5c5c 10px, #5c5c5c 20px);\n",
       "    }\n",
       "    .progress-bar-interrupted, .progress-bar-interrupted::-webkit-progress-bar {\n",
       "        background: #F44336;\n",
       "    }\n",
       "</style>\n"
      ],
      "text/plain": [
       "<IPython.core.display.HTML object>"
      ]
     },
     "metadata": {},
     "output_type": "display_data"
    },
    {
     "data": {
      "text/html": [],
      "text/plain": [
       "<IPython.core.display.HTML object>"
      ]
     },
     "metadata": {},
     "output_type": "display_data"
    },
    {
     "data": {
      "text/html": [
       "\n",
       "<style>\n",
       "    /* Turns off some styling */\n",
       "    progress {\n",
       "        /* gets rid of default border in Firefox and Opera. */\n",
       "        border: none;\n",
       "        /* Needs to be in here for Safari polyfill so background images work as expected. */\n",
       "        background-size: auto;\n",
       "    }\n",
       "    progress:not([value]), progress:not([value])::-webkit-progress-bar {\n",
       "        background: repeating-linear-gradient(45deg, #7e7e7e, #7e7e7e 10px, #5c5c5c 10px, #5c5c5c 20px);\n",
       "    }\n",
       "    .progress-bar-interrupted, .progress-bar-interrupted::-webkit-progress-bar {\n",
       "        background: #F44336;\n",
       "    }\n",
       "</style>\n"
      ],
      "text/plain": [
       "<IPython.core.display.HTML object>"
      ]
     },
     "metadata": {},
     "output_type": "display_data"
    },
    {
     "data": {
      "text/html": [],
      "text/plain": [
       "<IPython.core.display.HTML object>"
      ]
     },
     "metadata": {},
     "output_type": "display_data"
    },
    {
     "data": {
      "text/html": [
       "\n",
       "<style>\n",
       "    /* Turns off some styling */\n",
       "    progress {\n",
       "        /* gets rid of default border in Firefox and Opera. */\n",
       "        border: none;\n",
       "        /* Needs to be in here for Safari polyfill so background images work as expected. */\n",
       "        background-size: auto;\n",
       "    }\n",
       "    progress:not([value]), progress:not([value])::-webkit-progress-bar {\n",
       "        background: repeating-linear-gradient(45deg, #7e7e7e, #7e7e7e 10px, #5c5c5c 10px, #5c5c5c 20px);\n",
       "    }\n",
       "    .progress-bar-interrupted, .progress-bar-interrupted::-webkit-progress-bar {\n",
       "        background: #F44336;\n",
       "    }\n",
       "</style>\n"
      ],
      "text/plain": [
       "<IPython.core.display.HTML object>"
      ]
     },
     "metadata": {},
     "output_type": "display_data"
    },
    {
     "data": {
      "text/html": [],
      "text/plain": [
       "<IPython.core.display.HTML object>"
      ]
     },
     "metadata": {},
     "output_type": "display_data"
    }
   ],
   "source": [
    "#|export\n",
    "\n",
    "image = gr.inputs.Image(shape=(192, 192))\n",
    "label = gr.outputs.Label()\n",
    "\n",
    "intf = gr.Interface(fn=classify_cat, inputs=image, outputs=label, examples=examples)\n",
    "intf.launch(inline=False)"
   ]
  },
  {
   "cell_type": "code",
   "execution_count": null,
   "metadata": {},
   "outputs": [],
   "source": [
    "#| hide\n",
    "from nbdev import nbdev_export\n",
    "\n",
    "nbdev_export('cat_categorizer.ipynb')"
   ]
  }
 ],
 "metadata": {
  "kernelspec": {
   "display_name": "Python 3 (ipykernel)",
   "language": "python",
   "name": "python3"
  },
  "language_info": {
   "codemirror_mode": {
    "name": "ipython",
    "version": 3
   },
   "file_extension": ".py",
   "mimetype": "text/x-python",
   "name": "python",
   "nbconvert_exporter": "python",
   "pygments_lexer": "ipython3",
   "version": "3.11.2"
  }
 },
 "nbformat": 4,
 "nbformat_minor": 2
}
